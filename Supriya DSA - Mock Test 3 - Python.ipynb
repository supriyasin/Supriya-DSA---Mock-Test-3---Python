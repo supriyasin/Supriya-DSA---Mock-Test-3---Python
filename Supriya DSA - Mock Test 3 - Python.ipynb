{
 "cells": [
  {
   "cell_type": "code",
   "execution_count": 1,
   "id": "62e19129",
   "metadata": {},
   "outputs": [
    {
     "name": "stdout",
     "output_type": "stream",
     "text": [
      "30\n",
      "False\n",
      "20\n",
      "10\n",
      "True\n"
     ]
    }
   ],
   "source": [
    "#Implement a stack using a list in Python. Include the necessary methods such as push, pop, and isEmpty.\n",
    "\n",
    "# Here's an example of implementing a stack using a list in Python:\n",
    "\n",
    "class Stack:\n",
    "    def __init__(self):\n",
    "        self.stack = []\n",
    "\n",
    "    def push(self, item):\n",
    "        self.stack.append(item)\n",
    "\n",
    "    def pop(self):\n",
    "        if not self.is_empty():\n",
    "            return self.stack.pop()\n",
    "        else:\n",
    "            raise IndexError(\"Stack is empty. Cannot pop from an empty stack.\")\n",
    "\n",
    "    def is_empty(self):\n",
    "        return len(self.stack) == 0\n",
    "my_stack = Stack()\n",
    "my_stack.push(10)\n",
    "my_stack.push(20)\n",
    "my_stack.push(30)\n",
    "print(my_stack.pop())  # Output: 30\n",
    "print(my_stack.is_empty())  # Output: False\n",
    "print(my_stack.pop())  # Output: 20\n",
    "print(my_stack.pop())  # Output: 10\n",
    "print(my_stack.is_empty())  # Output: True\n",
    "\n",
    "\"\"\"In this implementation, the Stack class has three methods:\n",
    "\n",
    "   • push(item): This method takes an item as input and adds it to the top of the stack by using the append method\n",
    "     of the list.\n",
    "   • pop(): This method removes and returns the topmost item from the stack using the pop method of the list. \n",
    "     It also checks if the stack is empty before attempting to pop an element and raises an IndexError if the stack is empty.\n",
    "   • is_empty(): This method checks if the stack is empty by checking the length of the list.\"\"\"\n"
   ]
  },
  {
   "cell_type": "code",
   "execution_count": null,
   "id": "e9723371",
   "metadata": {},
   "outputs": [],
   "source": []
  }
 ],
 "metadata": {
  "kernelspec": {
   "display_name": "Python 3 (ipykernel)",
   "language": "python",
   "name": "python3"
  },
  "language_info": {
   "codemirror_mode": {
    "name": "ipython",
    "version": 3
   },
   "file_extension": ".py",
   "mimetype": "text/x-python",
   "name": "python",
   "nbconvert_exporter": "python",
   "pygments_lexer": "ipython3",
   "version": "3.9.12"
  }
 },
 "nbformat": 4,
 "nbformat_minor": 5
}
